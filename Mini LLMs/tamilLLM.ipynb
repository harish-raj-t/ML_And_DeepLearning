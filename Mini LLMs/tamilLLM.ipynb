{
 "cells": [
  {
   "cell_type": "code",
   "execution_count": 1,
   "id": "de966ec7-aef7-447b-b368-5dc0a445b07e",
   "metadata": {},
   "outputs": [
    {
     "data": {
      "text/plain": [
       "<torch._C.Generator at 0x2bf00ad0>"
      ]
     },
     "execution_count": 1,
     "metadata": {},
     "output_type": "execute_result"
    }
   ],
   "source": [
    "import numpy as np\n",
    "import torch\n",
    "import torch.nn as nn\n",
    "from torch.utils.data import Dataset, DataLoader, random_split\n",
    "import tamil\n",
    "import sentencepiece as spm\n",
    "import os\n",
    "seed = 1234\n",
    "torch.manual_seed(seed)"
   ]
  },
  {
   "cell_type": "code",
   "execution_count": 2,
   "id": "1283bd6a-530c-47cf-a3cc-a21977bf4b2e",
   "metadata": {},
   "outputs": [],
   "source": [
    "BLOCK_SIZE = 8"
   ]
  },
  {
   "cell_type": "code",
   "execution_count": 3,
   "id": "7cb0141a-5323-4506-95a4-dedbd27fb233",
   "metadata": {},
   "outputs": [],
   "source": [
    "device = torch.device(\"cuda\" if torch.cuda.is_available() else \"cpu\")"
   ]
  },
  {
   "cell_type": "code",
   "execution_count": 4,
   "id": "1bf44cd2-0533-4d45-b385-59ea33a58ef8",
   "metadata": {},
   "outputs": [],
   "source": [
    "class MaskedMultiHeadAttention(nn.Module):\n",
    "  def __init__(self, emd_dim, heads=4, dropout = 0.2):\n",
    "    super(MaskedMultiHeadAttention, self).__init__()\n",
    "    assert emd_dim % heads == 0\n",
    "    self.heads = heads\n",
    "    self.head_dim = emd_dim//heads\n",
    "    self.scale = self.head_dim ** -0.5\n",
    "    self.multiHead = nn.Linear(emd_dim, emd_dim*3)\n",
    "    self.output = nn.Linear(emd_dim,emd_dim)\n",
    "    self.dropout = nn.Dropout(dropout)\n",
    "\n",
    "  def forward(self, x):\n",
    "    B, T, C = x.shape\n",
    "    qkv = self.multiHead(x)\n",
    "    q, k, v = torch.chunk(qkv,3,dim=-1)\n",
    "    q = q.view(B, T, self.heads, self.head_dim).permute(0, 2, 1, 3)\n",
    "    k = k.view(B, T, self.heads, self.head_dim).permute(0, 2, 1, 3)\n",
    "    v = v.view(B, T, self.heads, self.head_dim).permute(0, 2, 1, 3)\n",
    "    attn_scores = torch.matmul(q, k.transpose(-2, -1)) * self.scale\n",
    "    tril = torch.tril(torch.ones(T,T)).to(device)\n",
    "    attn_scores = attn_scores.masked_fill(tril==0, float('-inf'))\n",
    "    attn_probs = torch.softmax(attn_scores, dim=-1)\n",
    "    attn_probs_drop = self.dropout(attn_probs)\n",
    "    attn_output = torch.matmul(attn_probs_drop,v)\n",
    "    fn_attn_output = attn_output.permute(0, 2, 1, 3).reshape(B, T, C)\n",
    "    return self.output(fn_attn_output)\n"
   ]
  },
  {
   "cell_type": "code",
   "execution_count": 5,
   "id": "a3355765-8234-49a2-842b-652a60b052d4",
   "metadata": {},
   "outputs": [],
   "source": [
    "class LayerNorm1D(nn.Module):\n",
    "  def __init__(self, dim, eps=1e-5):\n",
    "    super(LayerNorm1D, self).__init__()\n",
    "    self.gamma = nn.Parameter(torch.ones(dim)).to(device)\n",
    "    self.beta = nn.Parameter(torch.zeros(dim)).to(device)\n",
    "    self.eps = eps\n",
    "\n",
    "  def forward(self, x):\n",
    "    mean = x.mean(-1,keepdim=True)\n",
    "    var = x.var(-1, unbiased=False, keepdim=True)\n",
    "    xhat = (x-mean)/torch.sqrt(var+self.eps)\n",
    "    return (self.gamma * xhat) +self.beta"
   ]
  },
  {
   "cell_type": "code",
   "execution_count": 6,
   "id": "334d8c98-2c88-4e8b-add0-c5f6fa5ec0eb",
   "metadata": {},
   "outputs": [],
   "source": [
    "class FeedForward(nn.Module):\n",
    "  def __init__(self, input_dim, hidden_dim, output_dim, dropout = 0.2):\n",
    "    super().__init__()\n",
    "    self.feed_forward_layer = nn.Sequential(\n",
    "      nn.Linear(input_dim, hidden_dim),\n",
    "      nn.GELU(),\n",
    "      nn.Linear(hidden_dim, output_dim),\n",
    "      nn.Dropout(dropout)\n",
    "    )\n",
    "\n",
    "  def forward(self, x):\n",
    "    return self.feed_forward_layer(x)"
   ]
  },
  {
   "cell_type": "code",
   "execution_count": 7,
   "id": "6397a926-783f-49c6-b047-3b0c968d0e00",
   "metadata": {},
   "outputs": [],
   "source": [
    "class Block(nn.Module):\n",
    "  def __init__(self,embed_dim,heads=4):\n",
    "    super().__init__()\n",
    "    self.layer_norm1 = LayerNorm1D(embed_dim)\n",
    "    self.layer_norm2 = LayerNorm1D(embed_dim)\n",
    "    self.masked_multi_head_attn =  MaskedMultiHeadAttention(embed_dim, heads = 4)\n",
    "    self.feed_forward_layer = FeedForward(embed_dim, embed_dim*4, embed_dim)\n",
    "\n",
    "  def forward(self, x):\n",
    "    x = x + self.masked_multi_head_attn(self.layer_norm1(x))\n",
    "    x = x + self.feed_forward_layer(self.layer_norm2(x))\n",
    "    return x"
   ]
  },
  {
   "cell_type": "code",
   "execution_count": 20,
   "id": "a7198c25-ffad-4e96-8559-aaedb66dc4d8",
   "metadata": {},
   "outputs": [],
   "source": [
    "def apply_rope(x):\n",
    "    _, seq_len, dim = x.shape\n",
    "    pos = torch.arange(seq_len, device=device).float()\n",
    "    assert dim % 2 == 0, \"Embedding dimension must be even for RoPE\"\n",
    "    theta = 1.0 / (10000 ** (2 * (torch.arange(dim // 2, device=device).float() / dim)))\n",
    "    angles = torch.outer(pos, theta)\n",
    "    sin_angles = torch.sin(angles)\n",
    "    cos_angles = torch.cos(angles)\n",
    "    x_real, x_imag = torch.chunk(x, 2, dim=-1)\n",
    "    x_rotated = torch.cat([\n",
    "        x_real * cos_angles - x_imag * sin_angles,\n",
    "        x_real * sin_angles + x_imag * cos_angles\n",
    "    ], dim=-1)\n",
    "    return x_rotated"
   ]
  },
  {
   "cell_type": "code",
   "execution_count": 21,
   "id": "4c334a72-06d9-47ab-85eb-79453df25137",
   "metadata": {},
   "outputs": [],
   "source": [
    "class AutoRegressiveModel(nn.Module):\n",
    "  def __init__(self, embed_dim, vocab_size, block_size = BLOCK_SIZE, heads=4, num_layers=4):\n",
    "    super().__init__()\n",
    "    self.block = nn.Sequential(*[Block(embed_dim,heads) for _ in range(num_layers)])\n",
    "    self.embedding = nn.Embedding(vocab_size, embed_dim)\n",
    "    self.final_layer_norm = LayerNorm1D(embed_dim)\n",
    "    self.final_layer = nn.Linear(embed_dim, vocab_size)\n",
    "\n",
    "  def forward(self, x, targets = None):\n",
    "    _, T = x.shape\n",
    "    x_emb = self.embedding(x)\n",
    "    x_pos_emb = apply_rope(x_emb)\n",
    "    x = x_emb + x_pos_emb\n",
    "    block_output = self.block(x)\n",
    "    x_out = self.final_layer_norm(block_output)\n",
    "    return self.final_layer(x_out)"
   ]
  },
  {
   "cell_type": "code",
   "execution_count": 22,
   "id": "5c889a40-e3b9-4af4-bfa7-99d20c0ee7ce",
   "metadata": {},
   "outputs": [
    {
     "name": "stdout",
     "output_type": "stream",
     "text": [
      "143818754\n"
     ]
    }
   ],
   "source": [
    "def load_text_from_folder(folder_path):\n",
    "    all_text = []\n",
    "    for root, _, files in os.walk(folder_path):\n",
    "        for file in files:\n",
    "            file_path = os.path.join(root, file)\n",
    "            try:\n",
    "                with open(file_path, 'r', encoding='utf-8') as f:\n",
    "                    content = f.read()\n",
    "                    all_text.append(content)\n",
    "            except Exception as e:\n",
    "                print(f\"Skipping {file_path}: {e}\")\n",
    "    return \" \".join(all_text)\n",
    "\n",
    "folder_path = r\"C:\\Users\\harish-4072\\Downloads\\archive(2)\\train\\train\"\n",
    "full_corpus = load_text_from_folder(folder_path)\n",
    "print(len(full_corpus))\n",
    "# output_file = \"tamil_corpus.txt\"\n",
    "# with open(output_file, \"w\", encoding=\"utf-8\") as f:\n",
    "#     f.write(full_corpus)\n",
    "\n",
    "full_corpus = full_corpus[:10000]"
   ]
  },
  {
   "cell_type": "code",
   "execution_count": 42,
   "id": "dbbff980-ccbd-46d5-8c56-32d9205e8bf4",
   "metadata": {},
   "outputs": [
    {
     "data": {
      "text/plain": [
       "'<doc id=\"3\" url=\"https://ta.wikipedia.org/wiki?curid=3\" title=\"முதற் பக்கம்\">\\nமுதற் பக்கம்\\n\\n\\n\\n</doc>\\n<doc id=\"12\" url=\"https://ta.wikipedia.org/wiki?curid=12\" title=\"கட்டிடக்கலை\">\\nகட்டிடக்கலை\\n\\nகட்டிடக்கலை என்பது கட்டிடங்கள் மற்றும் அதன் உடல் கட்டமைப்புகளை வடிவமைத்தல், செயல்முறைத் திட்டமிடல், மற்றும் கட்டிடங்கள் கட்டுவதை உள்ளடக்கியதாகும். கட்டடக்கலை படைப்புகள், கட்டிடங்கள் பொருள் வடிவம், பெரும்பாலும் கலாச்சார சின்னங்களாக மற்றும் கலை படைப்புகளாக காணப்படுகின்றது. வரலாற்று நாகரிகங்கள் பெரும்பாலும் அவர்களின் கட்டிடகலை சாதனைகளின் மூலம் அடையாளம் காணப்படுகின்றன.\\n\\nஒரு விரிவான வரைவிலக்கணம், பெருமட்டத்தில், நகரத் திட்டமிடல், நகர்ப்புற வடிவமைப்பு மற்றும் நிலத்தோற்றம் முதலியவற்றையும், நுண்மட்டத்தில், தளபாடங்கள், உற்பத்திப்பொருள் முதலியவற்றை உள்ளடக்கிய, முழு உருவாக்கச் சூழலின் வடிவமைப்பைக் கட்டிடக்கலைக்குள் அடக்கும். \\nமேற்படி விடயத்தில், தற்போது கிடைக்கும் மிகப் பழைய ஆக்கம், கி.பி. முதலாம் நூற்றாண்டைச் சேர்ந்த உரோமானியக் கட்டடக் கலைஞரான விட்ருவியஸ் என்பாரது \"கட்டிடக்கலை தொடர்பில்\", என்ற நூலாகும். இவரது கூற்றுப்படி, நல்ல கட்டிடம், அழகு, உறுதி, பயன்பாடு ஆகியவற்றைக் கொண்டிருக்கவேண்டும். மேற்படி மூன்றும், ஒன்றின்மீதொன்று அளவுமீறி ஆதிக்கம் செலுத்தாமல், தங்களிடையே சமனிலையையும், ஒருங்கினைப்பையும் கொண்டிருத்தலே கட்டிடக்கலை என்று சொல்லலாம். ஒரு மேலான வரைவிலக்கணம், கட்டிடக்கலையைச், செயற்பாட்டு, அழகியல், உளவியல் என்பன தொடர்பான விடயங்களைக் கையாளல் என்ற விதத்தில் நோக்குகிறது. எனினும், இன்னொரு விதத்தில் பார்த்தால், செயற்பாடு என்பது, அழகியல், உளவியல் உட்பட்ட எல்லா அளபுருக்களையும் தன்னுள் அடக்குவதாகக் கொள்ளலாம். \\nகட்டிடக்கலை, கணிதம், அறிவியல், கலை, தொழில்நுட்பம், சமூக அறிவியல், அரசியல், வரலாறு, தத்துவம், பொன்றவற்றுடன் தொடர்புள்ள, ஒரு பல்துறைக் களமாகும். விட்ருவியசின் சொற்களில், \"கட்டிடக்கலையென்பது, வேறுபல அறிவியல் துறைகளிலிருந்து எழுவதும், பெருமளவு, பல்வேறுபட்ட அறிவுத்துறைகளினால் அலங்கரிக்கப்பட்டதுமான ஒரு அறிவியலாகும்: இதன் உதவியைக் கொண்டே பல்வேறு கலைத் துறைகளினதும் விளைவுகள் மதிப்பீடு செய்யப்படுகின்றன\". மேலும் ஒரு கட்டிடக் கலைஞன், இசை, வானியல் முதலிய துறைகளிலும் நல்ல பரிச்சயமுடையவனாயிருக்க வேண்டும் என்பது விட்ருவியசின் கருத்து. தத்துவம் குறிப்பாக விருப்பத்துக்குரியது. உண்மையில், அணுகுமுறை பற்றிக் கருதும்போது, ஒவ்வொரு கட்டிடக் கலைஞனதும் தத்துவம் பற்றிக் குறிப்பிடுகிறோம். பகுத்தறிவியம், பட்டறிவியம், கட்டமைப்பியம், பின்கட்டமைப்பியம் மற்றும் தோற்றப்பாட்டியல் என்பன போன்ற போக்குகள், கட்டிடக்கலையில், தத்துவத்தின் செல்வாக்கைக் காட்டும் சில எடுதுதுக்காட்டுகளாகும்.\\n\\nலியொன் பட்டிஸ்டா ஆல்பர்ட்டி என்பவர் தான் எழுதிய நூலொன்றில் விட்ருவியசின் கருத்துக்களை விரிவாக்கினார். அலங்காரங்களும் அழகுக்குப் பங்களிப்புச் செய்த போதிலும், அழகு என்பது, அளவுவிகிதம் (proportion) தொடர்பிலானது என்று இவர் எழுதினார். ஆல்பர்ட்டியின் கருத்துப்படி ஒரு முறையான உடலமைப்புக் கொண்ட மனிதனின் உடலின் அளவுவிகிதங்களைக் கட்டுப்படுத்தும் விதிகளே சிறப்பான அளவுவிகிதங்களுக்கான விதிகளாகும். அழகைப் பொருளின் தன்மைக்குப் புறம்பாக வெளியிலிருந்து கொண்டுவந்து ஒட்டவைக்க முடியாது, பொருள்களோடு அவற்றின் அழகு இயல்பாக அமைந்திருக்கிறது என்னும் கருத்தே இங்கு முக்கியமான அம்சம். கட்டிடக்கலையிலும், பிற அழகியல் கலைகளிலும் பாணி என்னும் ஒரு அம்சம் இடைக்காலத்தில் முக்கிய பங்கு வகித்தது. ஆனால், பாணி என்னும் கருத்துரு 16 ஆம் நூற்றாண்டில் வாசரி என்பவர் எழுதிய நூல்களினூடாகவே அறிமுகமானது. இந் நூல்கள் 18 ஆம் நூற்றாண்டில் இத்தாலிய மொழி, பிரெஞ்சு மொழி, ஸ்பானிய மொழி, ஆங்கிலம் ஆகியவற்றில் மொழிபெயர்ப்புச் செய்யப்பட்டது. \\n\\n19 ஆம் நூற்றாண்டில் ஆங்கிலக் கலைத் திறனாய்வாளரான ஜான் ரஸ்கின் என்பவர் 1849 வெளியிட்ட \"கட்டிடக்கலையின் ஏழு விளக்குகள்\" என்னும் நூலில், \"கட்டிடக்கலை என்பது அதனைக் காண்போருக்கு உள நலத்தையும், ஆற்றலையும், இன்பத்தையும் தரக்கூடிய வகையில், அமைத்து, அலங்கரித்து உருவாக்கப்பட்ட கட்டிடங்களாகும்\" என்றார். ரஸ்கினுக்கு, கட்டிடக்கலையைப் பொறுத்தவரை அழகியலே யாவற்றிலும் முக்கியமான அம்சமாக இருந்தது. மேலும், ஏதோ ஒரு வகையில் அலங்கரிக்கப்படாத கட்டிடங்கள் கட்டிடக்கலை ஆகாமாட்டா என்ற கருத்தையும் அவர் கொண்டிருந்தார். \\n\\nஒரு கட்டிடக்கலை சார்ந்த கட்டிடத்துக்கும், சாதாரண கட்டிடத்துக்கும் உள்ள வேறுபாடு பலரதும் கவனத்தை ஈர்க்கின்ற விடயமாக இருந்துவருகின்றது. இது குறித்து எழுதிய பிரபலமான பிரெஞ்சுக் கட்டிடக்கலைஞரான லெ கொபூசியே, \"நீங்கள், கற்கள், மரம், காங்கிறீட்டு என்பவற்றைக் கொண்டு ஒரு வீட்டையோ மாளிகையையோ அமைக்கலாம். அது கட்டுமானம். ஆனால் ஆக்கத்திறன் சிறப்பாக அமையும்போது, அது எனது நெஞ்சைத் தொடுகிறது. நீங்கள் எனக்கு நல்லது செய்திருக்கிறீர்கள். மிகவும் அழகாக இருக்கிறது என்கிறேன் நான். அதுவே கட்டிடக்கலை.\" எனக் குறிப்பிடுகிறார். 20 ஆம் நூற்றாண்டின் ஐரோப்பிய வரலாற்றாசிரியரான \"நிக்கொலஸ் பெவ்ஸ்னர்\" என்பாருடைய கூற்றுப்படி, ஒரு துவிச்சக்கரவண்டிக் கொட்டகை ஒரு சாதாரண கட்டிடமும், லிங்கன் பேராலயம் ஒரு கட்டிடக்கலை சார்ந்த கட்டிடமுமாகும். தற்காலச் சிந்தனைப் போக்குகளுக்கு அமைய இத்தகைய பிரிவு அவ்வளவு தெளிவானதாக இல்லை. \"பெர்னாட் ருடோவ்ஸ்கி\" என்பாரது \"கட்டிடக்கலைஞன் இல்லாத கட்டிடக்கலை\" (Architecture without architects) என்னும் பிரபலமான நூல், சாதாரண மக்களால் கட்டப்பட்ட பல்வேறு தரத்திலான கட்டிடங்களையும், கட்டிடக்கலையின் ஆளுகைக்குள் கொண்டுவந்தது. வரலாற்றில் பின்னோக்கிச் செல்லும்போது, கட்டிடக்கலைசார் கட்டிடங்கள் எவை, அவ்வாறில்லதவை எவை என்பதிலே கருத்தொற்றுமை காணப்பட்டது. விருவியசைப் போல், நல்ல கட்டிடங்களே கட்டிடக்கலைசார்ந்த கட்டிடங்கள் என வரைவிலக்கணப்படுத்தினால், கூடாத கட்டிடக்கலைசார்ந்த கட்டிடங்கள் இல்லையா என்ற கேள்வி எழும். இப் பிரச்சினையிலிருந்து விடுபடுவதற்கு, கட்டிடக்கலைசார் கட்டிடங்கள் என்பதற்கு, கட்டிடக்கலைஞரால் வடிவமைக்கப்பட்ட கட்டிடங்கள் என்றும் வரைவிலக்கணம் கூறலாம் எனச் சிலர் கூறுகிறார்கள். இது கட்டிடக்கலைஞர் என்பதன் வரைவிலக்கணம் பற்றிய இன்னொரு சர்ச்சையை உருவாக்குவதைத் தவிர்க்க முடியாது.\\n\\n19 ஆம் நூற்றாண்டின் புகழ் பெற்ற கட்டிடக்கலைஞர் லூயிஸ் சலிவன் கட்டிடக்கலை வடிவமைப்பில் புதிய நோக்கு ஒன்றை வளர்ப்பதற்கு முயற்சித்தார். செயற்பாட்டுத் தன்மைக்கு முக்கியத்துவம் கொடுக்கும் இந்த நோக்குக்கு அமைய \"செயற்பாட்டுத் தேவைகளிலிருந்தே வடிவம் உருவாகின்றது\" (Form follows function) என்னும் கருத்து முன்வைக்கப்பட்டது. செயற்பாட்டு நோக்கின் அடைப்படையிலேயே அமைப்பும் அழகியலும் நோக்கப்படவேண்டும் என்னும் இக் கருத்து பரவலான ஆதரவையும் எதிர்ப்பையும் பெற்றது. செயற்பாடு என்னும் இப் புதிய கருத்துரு கட்டிடங்களின் உளவியல், அழகியல், பண்பாட்டுப் பயன்கள் உட்பட எல்லா வகையான பயன்களும் குறித்த எல்லா அளபுருக்களையும் தன்னுள் அடக்கியிருந்தது.\\n\\nபல கட்டிடக்கலைஞர்கள் கோட்பாட்டை ஒதுக்கித் தள்ளினாலும், செயல்முறையை (practice) வளம்படுத்துவதில் அதன் முக்கியத்துவத்தைக் குறைத்து மதிப்பிட முடியாது. விட்ருவியஸ் தொடர்ந்து சொன்னபடி, \"செய்முறையும், கோட்பாடும் கட்டிடக்கலையின் பெற்றோருக்குச் சமம். செயல்முறை என்பது, கொடுக்கப்பட்ட வேலைகளை நடைமுறைப்படுத்தும் முறைகளைக் கைக்கொள்ளும்போது, அடிக்கடி நிகழும், தொடர்ச்சியான, சமநிலைப்படுத்தும் செயலை, அல்லது வெறுமனே உடற் செயல்பாட்டின்மூலம், ஒரு பொருளைச் சிறந்த பயன்படத்தக்க ஒன்றாக மாற்றுவதைக் குறிக்கும். கோட்பாடு என்பது, ஒரு பொருள், பிரேரிக்கப்பட்ட முடிவை அடையும்வகையில், மாற்றப்பட்டுள்ளது என்பதை எடுத்துக்காட்டுவதும், விளக்குவதுமான காரணத் தொடர்பாக்கத்தின் விளைவாகும். வெறுமனே செய்முறையிலூறிய கட்டிடக்கலைஞன், தான் எடுத்துக்கொண்ட வடிவுருக்களுக்கான (forms) காரணங்களை எடுத்துக்காட்ட முடிவதில்லை; கோட்பாட்டுக் கட்டிடக்கலைஞனும், பொருளை விட்டு நிழலைப் பிடிப்பதன் மூலம் தோல்வியடைகிறான். எவனொருவன் கோட்பாடு செயல்முறை இரண்டிலும் வல்லவனாக இருக்கிறானோ அவன் இரட்டைப் பலமுள்ளவன்; தன்னுடைய வடிவமைப்பின் தகுதியை நிரூபிக்கக்கூடியவனாக இருக்கின்றது மட்டுமன்றி, அதைத் திறமையாகச் செயற்படுத்தக்கூடியவனயும் இருப்பான்.\"\\n\\nகட்டிடக்கலையென்பது, ஆரம்பத்தில், தேவைகளுக்கும், (உகந்த சூழல், பாதுகாப்பு என்பன) Means (கிடைக்கக் கூடிய கட்டிடப்பொருள்கள், தொழில் நுட்பம் முதலியன) என்பவற்றுக்கிடையிலான இயக்கப்பாடுகளிலிருந்து பரிணமித்ததாகும். தொல்பழங்கால, பழங்காலக் கட்டிடங்கள் இவ்வகையைச் சேர்ந்தனவாகும். மனித முன்னேற்றத்துடன், அறிவுத்துறைகளும், வாய்மொழி மரபுகளினாலும், செயல்முறைகளினாலும், ஒழுங்கமையத் தொடங்கியபோது, கட்டிடம் கட்டுதல் ஒரு கலையாக உருவானது. இங்கே முதலில் முயன்று தெரிதல் (Trial and Error) முறையின் பயன்பாடு, பின்னர் அவற்றில் தேவைக்கேற்ற மாற்றங்கள் அல்லது வெற்றிகரமான முயற்சிகளைப் பிரதிபண்ணல் எனப் பரிணாம வளர்ச்சி நடைபெற்றது. கட்டிடக்கலைஞர் மட்டுமே இங்கு முக்கியமானவர் அல்ல. இவர்கள் பங்கு சதவீத அடிப்படையில் மிகக் குறைவே; விசேடமாக வளரும் நாடுகளில் இது 5% அளவுக்கும் குறைவே என்றும் கூறப்படுகின்றது. அவர் தொடர்ந்துவரும் கட்டிடக்கலை மரபுகளில் ஒரு பகுதியேயாவர். \"நாட்டார் மரபு\" \"(Vernacular Tradition)\" என்று அழைக்கப்படும் மரபுசார் கட்டிடமுறை இதற்கு ஒரு எடுத்துக் காட்டாகும். உலகின் எல்லாப் பகுதிகளிலும், பெரும்பாலான கட்டிடங்கள் இம்முறையிலேயே கட்டிடக்கலைஞர் அல்லாதவர்களால் உருவாக்கப்படுகின்றன. \\nமுற்கால மனிதர் குடியிருப்புகள் கிராமம் சார்ந்தவையாகும். உற்பத்திப் பெருக்கம் ஏற்பட்டபோது கிராமச் சமுதாயங்கள் நகர்சார் சமுதாயங்களாக வளர்ச்சி பெறத்தொடங்கின. கட்டிடங்கள் அதிக சிக்கலானவையாக ஆனதுடன், அவற்றின் வகைகளும் அதிகரித்தன. வீதிகள், பாலங்கள் போன்ற குடிசார் கட்டுமானங்களும், பாடசாலைகள், மருத்துவமனைகள், பொழுதுபோக்கு வசதிகளுக்கான கட்டிடங்கள் எனப் புதிய கட்டிடவகைகளும் பெருகத்தொடங்கின. எனினும் சமயம் சார்ந்த கட்டிடக்கலை அதன் முதன்மையிடத்தைத் தக்கவைத்துக்கொண்டிருந்தது. பல்வேறு கட்டிடப்பாணிகளும், வளர்ச்சியடையத் தொடங்கியதுடன், கட்டிடக்கலை பற்றிய எழுத்தாக்கங்களும் உருவாகின. இவற்றிற் சில, கட்டிடங்கள் வடிவமைத்தல், கட்டுதல் தொடர்பில் பின்பற்றவேண்டிய விதிகளாக உருப்பெற்றன. இந்தியாவின் வாஸ்து சாஸ்திரம், சீனாவிலெழுந்த பெங் சுயி போன்ற கீழைத் தேச நூல்களும், மேலை நாட்டிலெழுந்த விட்ருவியசின் நூலும் இதற்கு உதாரணங்களாகும். \"கிளாசிக்கல்\" மற்றும் மத்திய காலங்களில், ஐரோப்பாவில், கட்டிடக்கலைத் துறையில் தனிப்பட்ட கட்டிடக்கலைஞர்கள் முதன்மைப்படுத்தப்படவில்லை.\\n\\nகட்டிடக்கலையின் வரலாற்றில் பாரிய கட்டுமானங்களைக் கட்டிய மிகப் பழைய நாகரிகங்களுள் ஆப்பிரிக்காவின் நைல் ஆற்றங்கரையில் உருவாகிச் செழித்த எகிப்திய நாகரிகம் முதன்மையானது. இம் மக்கள் மிகப் பெரிய பிரமிட்டுகளையும், கோயில்களையும் உருவாக்கினர். பல வரலாற்றாளர்களும் உலகக் கட்டிடக்கலை வரலாற்றின் தொடக்கத்தை இங்கிருந்துதான் தொடங்குகிறார்கள். ஐரோப்பாவின் தொடக்ககால நாகரிகங்களான கிரேக்க, ரோமர்காலக் கட்டிடக்கலைகளுக்கான பல அடிப்படைகளை எகிப்தியக் கட்டிடக்கலையில் அடையாளம் காண முடியும்.\\n\\nதற்கால ஈராக்கிலுள்ள யூபிரட்டீஸ், டைகிரிஸ் ஆகிய ஆறுகளுக்கு இடையேயுள்ள பகுதியில் செழித்து வளர்ந்த மெசொப்பொத்தேமிய நாகரிகம், உலகக் கட்டிடக்கலை வளர்ச்சிக்குப் பெரும் பங்களிப்புக்களைச் செய்த இன்னொரு தொன்மையான ஆசிய நாகரிகம் ஆகும். மெசொப்பொத்தேமிய ஆற்றுப்படுக்கையிலும், மேற்கு ஈரானியப் பீடபூமியிலும் கட்டப்பட்ட சிகுரட் எனப்படும் கூம்பக வடிவ கோயில் கோபுரங்கள் இதற்குச் சான்று பகர்கின்றன. இவை பல படிகளாகக் கட்டப்பட்டுள்ளன. இவ்வாறான 32 சிகுரட்கள் அறியப்பட்டுள்ளன. இவற்றுள் 2'"
      ]
     },
     "execution_count": 42,
     "metadata": {},
     "output_type": "execute_result"
    }
   ],
   "source": [
    "full_corpus"
   ]
  },
  {
   "cell_type": "code",
   "execution_count": 23,
   "id": "3ae42141-1253-4a31-83cf-0b3bee4ac6da",
   "metadata": {},
   "outputs": [],
   "source": [
    "sp = spm.SentencePieceProcessor(model_file=\"tamil_spm.model\")\n",
    "data = sp.encode(full_corpus, out_type=int)"
   ]
  },
  {
   "cell_type": "code",
   "execution_count": 24,
   "id": "32c86507-9030-41b2-835c-0881f0f5b3ed",
   "metadata": {},
   "outputs": [],
   "source": [
    "vocab_size = sp.get_piece_size()\n"
   ]
  },
  {
   "cell_type": "code",
   "execution_count": 25,
   "id": "594677ed-c193-4f62-9b52-3363e44c44d7",
   "metadata": {},
   "outputs": [],
   "source": [
    "from torch.utils.data import Dataset, DataLoader, random_split\n",
    "\n",
    "class AutoRegressiveDataset(Dataset):\n",
    "  def __init__(self,data, block_size):\n",
    "    self.data = data\n",
    "    self.block_size = block_size\n",
    "\n",
    "  def __len__(self):\n",
    "    return len(self.data)-self.block_size\n",
    "\n",
    "  def __getitem__(self,idx):\n",
    "    X= self.data[idx:idx+self.block_size]\n",
    "    y= self.data[idx+1:idx+self.block_size+1]\n",
    "    return torch.tensor(X).to(device),torch.tensor(y).to(device)"
   ]
  },
  {
   "cell_type": "code",
   "execution_count": 26,
   "id": "1237d4da-371a-4ebb-bc1a-8c28cfa3f350",
   "metadata": {},
   "outputs": [],
   "source": [
    "dataset = AutoRegressiveDataset(data,BLOCK_SIZE)\n",
    "train_size = int(0.8 * len(dataset))\n",
    "val_size = len(dataset) - train_size\n",
    "train_dataset, val_dataset = random_split(dataset, [train_size, val_size])\n",
    "train_loader = DataLoader(train_dataset, batch_size=256, shuffle=True)\n",
    "val_loader = DataLoader(val_dataset, batch_size=256, shuffle=False)"
   ]
  },
  {
   "cell_type": "code",
   "execution_count": 27,
   "id": "3bd91995-0f9b-4d47-b45a-31a2333f3359",
   "metadata": {},
   "outputs": [
    {
     "name": "stdout",
     "output_type": "stream",
     "text": [
      "torch.Size([256, 8]) torch.Size([256, 8])\n"
     ]
    }
   ],
   "source": [
    "for a,b in train_loader:\n",
    "    print(a.shape,b.shape)\n",
    "    break"
   ]
  },
  {
   "cell_type": "code",
   "execution_count": 28,
   "id": "e155bb45-4dfd-4731-9926-da1441c831f0",
   "metadata": {},
   "outputs": [],
   "source": [
    "model = AutoRegressiveModel(embed_dim=128, vocab_size=vocab_size, block_size= BLOCK_SIZE, heads = 4)\n",
    "if os.path.exists(\"decoder_transformers_autoregressive_model.pth\"):\n",
    "    model.load_state_dict(torch.load(\"decoder_transformers_autoregressive_model.pth\")) \n",
    "optimizer = torch.optim.Adam(model.parameters(), lr = 1e-3)\n",
    "criterion = nn.CrossEntropyLoss()"
   ]
  },
  {
   "cell_type": "code",
   "execution_count": 29,
   "id": "bfdbccde-468a-4882-8bc2-f06c43b39893",
   "metadata": {},
   "outputs": [],
   "source": [
    "def train(model: nn.Module, optimizer: torch.optim, criterion: nn.Module, dataloader: DataLoader, epochs: int):\n",
    "\n",
    "  for epoch in range(epochs):\n",
    "    model.train()\n",
    "    epoch_loss = 0.0\n",
    "    for X,y in dataloader:\n",
    "  \n",
    "      optimizer.zero_grad()\n",
    "\n",
    "      outputs = model(X)\n",
    "      B, T, _ = outputs.shape\n",
    "      loss = criterion(outputs.reshape(B*T,-1),y.reshape(B*T))\n",
    "      loss.backward()\n",
    "      optimizer.step()\n",
    "      epoch_loss += loss.item()\n",
    "    print(f\"Epoch: {epoch + 1}/{epochs}, Loss: {epoch_loss / len(dataloader):.4f}\")"
   ]
  },
  {
   "cell_type": "code",
   "execution_count": 30,
   "id": "4416ddf7-b346-4616-b637-4c81eb531cbf",
   "metadata": {},
   "outputs": [],
   "source": [
    "def val(model: nn.Module,dataloader: DataLoader):\n",
    "  model.eval()\n",
    "  val_loss = 0.0\n",
    "  with torch.no_grad():\n",
    "    for X,y in dataloader:\n",
    "      outputs = model(X)\n",
    "      B, T, _ = outputs.shape\n",
    "      loss = criterion(outputs.reshape(B*T,-1),y.reshape(B*T))\n",
    "      val_loss += loss.item()\n",
    "    print(f\"Loss: {val_loss / len(dataloader):.4f}\")"
   ]
  },
  {
   "cell_type": "code",
   "execution_count": 32,
   "id": "c7dd7f0f-efcd-4ff3-8afe-fd8835d6dbb1",
   "metadata": {},
   "outputs": [
    {
     "name": "stdout",
     "output_type": "stream",
     "text": [
      "Epoch: 1/20, Loss: 6.0009\n",
      "Epoch: 2/20, Loss: 5.2847\n",
      "Epoch: 3/20, Loss: 4.7072\n",
      "Epoch: 4/20, Loss: 4.1670\n",
      "Epoch: 5/20, Loss: 3.6570\n",
      "Epoch: 6/20, Loss: 3.1824\n",
      "Epoch: 7/20, Loss: 2.7218\n",
      "Epoch: 8/20, Loss: 2.3034\n",
      "Epoch: 9/20, Loss: 1.9308\n",
      "Epoch: 10/20, Loss: 1.6252\n",
      "Epoch: 11/20, Loss: 1.3600\n",
      "Epoch: 12/20, Loss: 1.1506\n",
      "Epoch: 13/20, Loss: 0.9864\n",
      "Epoch: 14/20, Loss: 0.8436\n",
      "Epoch: 15/20, Loss: 0.7461\n",
      "Epoch: 16/20, Loss: 0.6529\n",
      "Epoch: 17/20, Loss: 0.5940\n",
      "Epoch: 18/20, Loss: 0.5470\n",
      "Epoch: 19/20, Loss: 0.4968\n",
      "Epoch: 20/20, Loss: 0.4574\n"
     ]
    }
   ],
   "source": [
    "train(model, optimizer, criterion, train_loader, 20)"
   ]
  },
  {
   "cell_type": "code",
   "execution_count": null,
   "id": "4090b6b5-8426-4d35-b6f0-2bebafe71755",
   "metadata": {},
   "outputs": [],
   "source": [
    "val(model,val_loader)"
   ]
  },
  {
   "cell_type": "code",
   "execution_count": 59,
   "id": "0c121174-54d4-4f1a-8003-567468f42a56",
   "metadata": {},
   "outputs": [],
   "source": [
    "def generate(model: torch.nn.Module, start_seq: str = \"அவள் வீட்டுக்கு சென்றாள்\", epochs=100):\n",
    "    content_tokens = sp.encode(start_seq, out_type=int)  \n",
    "    for _ in range(epochs):\n",
    "        value = torch.tensor(content_tokens[-BLOCK_SIZE:]).unsqueeze(0).to(device)\n",
    "\n",
    "        outputs = model(value).squeeze(0)\n",
    "        probs = torch.softmax(outputs[-1], dim=-1)\n",
    "        next_token_id = torch.multinomial(probs, 1).item()\n",
    "        \n",
    "        content_tokens.append(next_token_id)  \n",
    "\n",
    "    return sp.decode(content_tokens) \n",
    "\n"
   ]
  },
  {
   "cell_type": "code",
   "execution_count": 60,
   "id": "cbf604a0-5cbd-4614-b3df-2631aa3e9d3b",
   "metadata": {},
   "outputs": [
    {
     "data": {
      "text/plain": [
       "'அவள் வீட்டுக்கு சென்றாள் வேட இக்கோயில்ithout பிடிப்பதன் மூலம் தோல்வியடைகிறான். எவனொருவன் கோட்பாடு செயல்முறை \"கட்டிடக்கலை பண்பாட்டுப் போல், பிரெஞ்சு மொழி, வானியல் கட்டுதல் தொடர்ப நல்ல கட்டிடஇதழ்00\"ின்றது மட்டுமho,கிரா நாட்டின்வியம் சர்ச்சையைஸ் ஆகிய37 ஆந்திர ஆக்க விளைனூடாகவே அறிமுகமானது.யின் வரலாற்றில் பின்னோ அவன் இரட்டைப் பகுதிகளிலும், பாடசாலைகள்,ளவு தெளிவானதாக இல்லை. \"கட்டிடக்கலை\"> கட்டிடக்கலைப் பகுதிகளிலும், ஒரு முறையான உடல ஆரயை உருவாக்குவதை'"
      ]
     },
     "execution_count": 60,
     "metadata": {},
     "output_type": "execute_result"
    }
   ],
   "source": [
    "content = generate(model, epochs = 100)\n",
    "''.join(content)"
   ]
  },
  {
   "cell_type": "code",
   "execution_count": null,
   "id": "cd3b0041-8ed6-443f-9d9f-a749d557a776",
   "metadata": {},
   "outputs": [],
   "source": [
    "torch.save(model.state_dict(), \"tamil_llm.pth\")"
   ]
  },
  {
   "cell_type": "code",
   "execution_count": 56,
   "id": "8406190c-ed5f-4351-a889-141b7fec2c6c",
   "metadata": {},
   "outputs": [
    {
     "name": "stdout",
     "output_type": "stream",
     "text": [
      "Encoded: ['▁அவள்', '▁வீட்டு', 'க்கு']\n",
      "Decoded: அவள் வீட்டுக்கு\n"
     ]
    }
   ],
   "source": [
    "import sentencepiece as spm\n",
    "\n",
    "sp = spm.SentencePieceProcessor(model_file=\"tamil_spm.model\")\n",
    "\n",
    "text = \"அவள் வீட்டுக்கு\"\n",
    "encoded = sp.encode(text, out_type=str)\n",
    "decoded = sp.decode(encoded)\n",
    "\n",
    "print(\"Encoded:\", encoded)  # Should include space tokens\n",
    "print(\"Decoded:\", decoded)  # Should match original input\n"
   ]
  },
  {
   "cell_type": "code",
   "execution_count": null,
   "id": "4a52b340-fda1-473a-a9ff-d91ce8331633",
   "metadata": {},
   "outputs": [],
   "source": []
  }
 ],
 "metadata": {
  "kernelspec": {
   "display_name": "Python 3 (ipykernel)",
   "language": "python",
   "name": "python3"
  },
  "language_info": {
   "codemirror_mode": {
    "name": "ipython",
    "version": 3
   },
   "file_extension": ".py",
   "mimetype": "text/x-python",
   "name": "python",
   "nbconvert_exporter": "python",
   "pygments_lexer": "ipython3",
   "version": "3.10.0"
  }
 },
 "nbformat": 4,
 "nbformat_minor": 5
}
