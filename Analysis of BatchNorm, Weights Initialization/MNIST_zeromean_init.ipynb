{
 "cells": [
  {
   "cell_type": "code",
   "execution_count": 1,
   "id": "5389bbdf-f03d-45f1-8b4f-21b64ffffc98",
   "metadata": {},
   "outputs": [],
   "source": [
    "import torch\n",
    "from torchvision import datasets, transforms\n",
    "import matplotlib.pyplot as plt\n",
    "import torch.nn as nn\n",
    "import torch.optim as optim\n",
    "import torch.nn.functional as F\n",
    "import random\n",
    "import torch.nn.init as init\n",
    "\n",
    "random.seed(42)\n",
    "torch.manual_seed(42)\n",
    "\n",
    "transform = transforms.Compose([transforms.ToTensor(), transforms.Normalize((0.1307,), (0.3081,))])\n",
    "\n"
   ]
  },
  {
   "cell_type": "code",
   "execution_count": 2,
   "id": "6cdf59cf-b5a9-42f8-8ca3-18281e7bde91",
   "metadata": {},
   "outputs": [],
   "source": [
    "# Download and load the training and test sets\n",
    "trainset = datasets.MNIST(root='./data', train=True, download=True, transform=transform)\n",
    "testset = datasets.MNIST(root='./data', train=False, download=True, transform=transform)\n",
    "\n",
    "# Create DataLoader for batching the data\n",
    "trainloader = torch.utils.data.DataLoader(trainset, batch_size=200, shuffle=True)\n",
    "testloader = torch.utils.data.DataLoader(testset, batch_size=60000, shuffle=False)"
   ]
  },
  {
   "cell_type": "code",
   "execution_count": 3,
   "id": "670834f7-61ec-489a-baae-5146c2d00574",
   "metadata": {},
   "outputs": [
    {
     "data": {
      "text/plain": [
       "(60000, 10000)"
      ]
     },
     "execution_count": 3,
     "metadata": {},
     "output_type": "execute_result"
    }
   ],
   "source": [
    "len(trainset), len(testset)"
   ]
  },
  {
   "cell_type": "code",
   "execution_count": 4,
   "id": "acd5a6bb-b401-459f-b707-8abf253f79f7",
   "metadata": {},
   "outputs": [],
   "source": [
    "class SimpleNN(nn.Module):\n",
    "    def __init__(self):\n",
    "        super(SimpleNN, self).__init__()\n",
    "        self.flatten = nn.Flatten()\n",
    "        self.fc1 = nn.Linear(28 * 28, 256)\n",
    "        self.fc2 = nn.Tanh()  \n",
    "        self.fc3 = nn.Linear(256, 10)\n",
    "        init.xavier_normal_(self.fc1.weight,gain=nn.init.calculate_gain('tanh'))\n",
    "        init.xavier_normal_(self.fc3.weight)\n",
    "\n",
    "    def forward(self, x):\n",
    "        \n",
    "        \n",
    "        x = self.flatten(x)\n",
    "        x = self.fc1(x)\n",
    "        x = self.fc2(x)\n",
    "        x = self.fc3(x)\n",
    "        return x\n"
   ]
  },
  {
   "cell_type": "code",
   "execution_count": 5,
   "id": "c33d3bbd-0a25-4d77-bc3b-39e4cc0bdf68",
   "metadata": {},
   "outputs": [],
   "source": [
    "def analyze_layer_statistics(model):\n",
    "    \n",
    "    \n",
    "    stats = {}\n",
    "    for layer_name, activations in model.activations.items():\n",
    "        stats[layer_name] = {\n",
    "            'mean': torch.mean(activations).item(),\n",
    "            'var': torch.var(activations).item(),\n",
    "            'min': torch.min(activations).item(),\n",
    "            'max': torch.max(activations).item()\n",
    "        }\n",
    "    \n",
    "    return stats"
   ]
  },
  {
   "cell_type": "code",
   "execution_count": 6,
   "id": "cc996977-a6d0-4fa9-9543-bbe237f78e0b",
   "metadata": {},
   "outputs": [],
   "source": [
    "model = SimpleNN()\n",
    "criterion = nn.CrossEntropyLoss()\n",
    "optimizer = optim.Adam(model.parameters(),lr=0.01)"
   ]
  },
  {
   "cell_type": "code",
   "execution_count": 7,
   "id": "e099f001-304e-4d48-8a6a-30c43854bfa4",
   "metadata": {},
   "outputs": [
    {
     "data": {
      "text/plain": [
       "(tensor(4.1684, grad_fn=<MulBackward0>),\n",
       " tensor(0.0532, grad_fn=<MulBackward0>))"
      ]
     },
     "execution_count": 7,
     "metadata": {},
     "output_type": "execute_result"
    }
   ],
   "source": [
    "28*28*model.fc1.weight.std()**2,10*model.fc1.weight.std()**2"
   ]
  },
  {
   "cell_type": "code",
   "execution_count": 8,
   "id": "bd13ddef-3d85-4d46-aca8-7fa29822e1c8",
   "metadata": {},
   "outputs": [
    {
     "name": "stdout",
     "output_type": "stream",
     "text": [
      "Epoch 1/20, Loss: 0.2962\n",
      "Accuracy = 91.25999450683594\n",
      "Epoch 2/20, Loss: 0.1883\n",
      "Accuracy = 94.2449951171875\n",
      "Epoch 3/20, Loss: 0.1728\n",
      "Accuracy = 94.6449966430664\n",
      "Epoch 4/20, Loss: 0.1688\n",
      "Accuracy = 94.77166748046875\n",
      "Epoch 5/20, Loss: 0.1630\n",
      "Accuracy = 94.9800033569336\n",
      "Epoch 6/20, Loss: 0.1620\n",
      "Accuracy = 94.9566650390625\n",
      "Epoch 7/20, Loss: 0.1652\n",
      "Accuracy = 94.8933334350586\n",
      "Epoch 8/20, Loss: 0.1621\n",
      "Accuracy = 94.96499633789062\n",
      "Epoch 9/20, Loss: 0.1540\n",
      "Accuracy = 95.25666809082031\n",
      "Epoch 10/20, Loss: 0.1480\n",
      "Accuracy = 95.3566665649414\n",
      "Epoch 11/20, Loss: 0.1438\n",
      "Accuracy = 95.56999969482422\n",
      "Epoch 12/20, Loss: 0.1460\n",
      "Accuracy = 95.52999877929688\n",
      "Epoch 13/20, Loss: 0.1431\n",
      "Accuracy = 95.62166595458984\n",
      "Epoch 14/20, Loss: 0.1463\n",
      "Accuracy = 95.63333129882812\n",
      "Epoch 15/20, Loss: 0.1426\n",
      "Accuracy = 95.7066650390625\n",
      "Epoch 16/20, Loss: 0.1394\n",
      "Accuracy = 95.6300048828125\n",
      "Epoch 17/20, Loss: 0.1337\n",
      "Accuracy = 95.89666748046875\n",
      "Epoch 18/20, Loss: 0.1362\n",
      "Accuracy = 95.86666870117188\n",
      "Epoch 19/20, Loss: 0.1233\n",
      "Accuracy = 96.26000213623047\n",
      "Epoch 20/20, Loss: 0.1309\n",
      "Accuracy = 96.00666809082031\n"
     ]
    }
   ],
   "source": [
    "epochs = 20\n",
    "losses = []\n",
    "stats = []\n",
    "for epoch in range(epochs):\n",
    "    model.train()\n",
    "    total = 0\n",
    "    correct = 0\n",
    "    running_loss = 0.0\n",
    "    for images, labels in trainloader:\n",
    "        optimizer.zero_grad() \n",
    "        output = model(images)\n",
    "        loss = criterion(output, labels)\n",
    "        loss.backward()\n",
    "        optimizer.step()\n",
    "        running_loss += loss\n",
    "        total += images.shape[0]\n",
    "        correct += (torch.argmax(output,dim=1)==labels).sum()\n",
    "    print(f'Epoch {epoch+1}/{epochs}, Loss: {running_loss/len(trainloader):.4f}')\n",
    "    print(f'Accuracy = {(correct/total)*100}')\n",
    "    losses.append(running_loss/len(trainloader)) \n",
    "    #stats.append(analyze_layer_statistics(model))\n"
   ]
  },
  {
   "cell_type": "code",
   "execution_count": 9,
   "id": "a810b6a1-4a3c-4991-9c51-518d42470c33",
   "metadata": {
    "scrolled": true
   },
   "outputs": [
    {
     "data": {
      "text/plain": [
       "[]"
      ]
     },
     "execution_count": 9,
     "metadata": {},
     "output_type": "execute_result"
    }
   ],
   "source": [
    "stats"
   ]
  },
  {
   "cell_type": "code",
   "execution_count": 10,
   "id": "4d8eeaf1-6f71-4213-a6e8-f8b139548da2",
   "metadata": {},
   "outputs": [
    {
     "name": "stdout",
     "output_type": "stream",
     "text": [
      "Accuracy: 95.40166473388672%\n"
     ]
    }
   ],
   "source": [
    "correct = 0\n",
    "total = 0\n",
    "for images,labels in trainloader:\n",
    "    model.eval()\n",
    "    y_pred = model(images)\n",
    "    loss = criterion(y_pred, labels)\n",
    "    predicted = torch.argmax(y_pred,dim=1)\n",
    "    total += labels.size(0)\n",
    "    correct += (predicted == labels).sum()\n",
    "\n",
    "\n",
    "# Calculate accuracy\n",
    "accuracy = 100 * correct / total\n",
    "print(f'Accuracy: {accuracy}%')\n",
    "   "
   ]
  },
  {
   "cell_type": "code",
   "execution_count": 11,
   "id": "97d8ccd7-c0b0-46d4-b779-3c314eb4217c",
   "metadata": {},
   "outputs": [
    {
     "name": "stdout",
     "output_type": "stream",
     "text": [
      "Accuracy: 94.80000305175781%\n"
     ]
    }
   ],
   "source": [
    "correct = 0\n",
    "total = 0\n",
    "for images,labels in testloader:\n",
    "    model.eval()\n",
    "    y_pred = model(images)\n",
    "    loss = criterion(y_pred, labels)\n",
    "    predicted = torch.argmax(y_pred,dim=1)\n",
    "    total += labels.size(0)\n",
    "    correct += (predicted == labels).sum()\n",
    "\n",
    "\n",
    "# Calculate accuracy\n",
    "accuracy = 100 * correct / total\n",
    "print(f'Accuracy: {accuracy}%')\n",
    "   "
   ]
  },
  {
   "cell_type": "code",
   "execution_count": 12,
   "id": "1702ac01-7c60-4bfd-a0f2-48667d706310",
   "metadata": {},
   "outputs": [
    {
     "ename": "AttributeError",
     "evalue": "'SimpleNN' object has no attribute 'activations'",
     "output_type": "error",
     "traceback": [
      "\u001b[1;31m---------------------------------------------------------------------------\u001b[0m",
      "\u001b[1;31mAttributeError\u001b[0m                            Traceback (most recent call last)",
      "Cell \u001b[1;32mIn[12], line 1\u001b[0m\n\u001b[1;32m----> 1\u001b[0m \u001b[38;5;241m28\u001b[39m\u001b[38;5;241m*\u001b[39m\u001b[38;5;241m28\u001b[39m\u001b[38;5;241m*\u001b[39m\u001b[43mmodel\u001b[49m\u001b[38;5;241;43m.\u001b[39;49m\u001b[43mactivations\u001b[49m[\u001b[38;5;124m'\u001b[39m\u001b[38;5;124mweight\u001b[39m\u001b[38;5;124m'\u001b[39m]\u001b[38;5;241m.\u001b[39mstd()\u001b[38;5;241m*\u001b[39m\u001b[38;5;241m*\u001b[39m\u001b[38;5;241m2\u001b[39m\n",
      "File \u001b[1;32m~\\AppData\\Local\\Programs\\Python\\Python310\\lib\\site-packages\\torch\\nn\\modules\\module.py:1729\u001b[0m, in \u001b[0;36mModule.__getattr__\u001b[1;34m(self, name)\u001b[0m\n\u001b[0;32m   1727\u001b[0m     \u001b[38;5;28;01mif\u001b[39;00m name \u001b[38;5;129;01min\u001b[39;00m modules:\n\u001b[0;32m   1728\u001b[0m         \u001b[38;5;28;01mreturn\u001b[39;00m modules[name]\n\u001b[1;32m-> 1729\u001b[0m \u001b[38;5;28;01mraise\u001b[39;00m \u001b[38;5;167;01mAttributeError\u001b[39;00m(\u001b[38;5;124mf\u001b[39m\u001b[38;5;124m\"\u001b[39m\u001b[38;5;124m'\u001b[39m\u001b[38;5;132;01m{\u001b[39;00m\u001b[38;5;28mtype\u001b[39m(\u001b[38;5;28mself\u001b[39m)\u001b[38;5;241m.\u001b[39m\u001b[38;5;18m__name__\u001b[39m\u001b[38;5;132;01m}\u001b[39;00m\u001b[38;5;124m'\u001b[39m\u001b[38;5;124m object has no attribute \u001b[39m\u001b[38;5;124m'\u001b[39m\u001b[38;5;132;01m{\u001b[39;00mname\u001b[38;5;132;01m}\u001b[39;00m\u001b[38;5;124m'\u001b[39m\u001b[38;5;124m\"\u001b[39m)\n",
      "\u001b[1;31mAttributeError\u001b[0m: 'SimpleNN' object has no attribute 'activations'"
     ]
    }
   ],
   "source": [
    "28*28*model.activations['weight'].std()**2"
   ]
  },
  {
   "cell_type": "code",
   "execution_count": null,
   "id": "50e9f4fc-b705-44e5-9b38-b82c44b06f8e",
   "metadata": {},
   "outputs": [],
   "source": [
    "2/(28*28 + 256)"
   ]
  },
  {
   "cell_type": "code",
   "execution_count": null,
   "id": "5a7a57e4-c1bb-46c9-ae38-457701bca14c",
   "metadata": {},
   "outputs": [],
   "source": [
    "-torch.tensor(1/10).log()"
   ]
  },
  {
   "cell_type": "code",
   "execution_count": null,
   "id": "01fdb70c-aece-48b2-b397-73e066263e5f",
   "metadata": {},
   "outputs": [],
   "source": []
  }
 ],
 "metadata": {
  "kernelspec": {
   "display_name": "Python 3 (ipykernel)",
   "language": "python",
   "name": "python3"
  },
  "language_info": {
   "codemirror_mode": {
    "name": "ipython",
    "version": 3
   },
   "file_extension": ".py",
   "mimetype": "text/x-python",
   "name": "python",
   "nbconvert_exporter": "python",
   "pygments_lexer": "ipython3",
   "version": "3.10.0"
  }
 },
 "nbformat": 4,
 "nbformat_minor": 5
}
