{
 "cells": [
  {
   "cell_type": "code",
   "execution_count": 3,
   "id": "4d92412e-469c-49de-b874-fe45a09619b1",
   "metadata": {},
   "outputs": [],
   "source": [
    "#min-max scalar\n",
    "import numpy as np"
   ]
  },
  {
   "cell_type": "code",
   "execution_count": 49,
   "id": "bb9aaf78-e26e-4e23-a473-01456ef3165f",
   "metadata": {},
   "outputs": [],
   "source": [
    "class MinMaxScalar:\n",
    "    def __init__(self,feature_range=(0,1)):\n",
    "        self.X_max = None\n",
    "        self.X_min = None\n",
    "        self.lower_bound = feature_range[0]\n",
    "        self.upper_bound = feature_range[1]\n",
    "\n",
    "    def fit(self,X):\n",
    "        self.X_max = np.max(X,axis=0)\n",
    "        self.X_min = np.min(X,axis=0) \n",
    "        \n",
    "\n",
    "    def transform(self,X):\n",
    "        scaled = (X-self.X_min)/(self.X_max-self.X_min)\n",
    "        return self.lower_bound + scaled*(self.upper_bound-self.lower_bound)\n",
    "\n",
    "    def fit_transform(self,X):\n",
    "        self.fit(X)\n",
    "        return self.transform(X)"
   ]
  },
  {
   "cell_type": "code",
   "execution_count": 50,
   "id": "82734f48-e845-4313-8252-b563ae79e6c3",
   "metadata": {},
   "outputs": [
    {
     "data": {
      "text/plain": [
       "array([[2. , 2. , 2.2],\n",
       "       [2.5, 2.5, 3. ],\n",
       "       [3. , 3. , 2. ]])"
      ]
     },
     "execution_count": 50,
     "metadata": {},
     "output_type": "execute_result"
    }
   ],
   "source": [
    "scalar = MinMaxScalar((2,3))\n",
    "scalar.fit_transform(X)"
   ]
  },
  {
   "cell_type": "code",
   "execution_count": 48,
   "id": "17340c09-0a2b-4c4e-ae75-ddc3811370ce",
   "metadata": {},
   "outputs": [
    {
     "name": "stdout",
     "output_type": "stream",
     "text": [
      "[[2.  2.  2.2]\n",
      " [2.5 2.5 3. ]\n",
      " [3.  3.  2. ]]\n"
     ]
    }
   ],
   "source": [
    "from sklearn.preprocessing import MinMaxScaler\n",
    "\n",
    "scaler = MinMaxScaler((2,3))\n",
    "\n",
    "normalized_data = scaler.fit_transform(X)\n",
    "\n",
    "print(normalized_data)"
   ]
  },
  {
   "cell_type": "code",
   "execution_count": 44,
   "id": "c6245673-e9d2-48ee-b302-33c29c5c9caf",
   "metadata": {},
   "outputs": [
    {
     "data": {
      "text/plain": [
       "array([[ 1,  2,  3],\n",
       "       [ 5,  6,  7],\n",
       "       [ 9, 10,  2]])"
      ]
     },
     "execution_count": 44,
     "metadata": {},
     "output_type": "execute_result"
    }
   ],
   "source": [
    "X"
   ]
  },
  {
   "cell_type": "code",
   "execution_count": null,
   "id": "5f248d39-e371-473f-87cc-25d4de8f22f8",
   "metadata": {},
   "outputs": [],
   "source": []
  },
  {
   "cell_type": "code",
   "execution_count": null,
   "id": "55064355-2b37-4d75-bd3c-cbb686556faa",
   "metadata": {},
   "outputs": [],
   "source": []
  }
 ],
 "metadata": {
  "kernelspec": {
   "display_name": "Python 3 (ipykernel)",
   "language": "python",
   "name": "python3"
  },
  "language_info": {
   "codemirror_mode": {
    "name": "ipython",
    "version": 3
   },
   "file_extension": ".py",
   "mimetype": "text/x-python",
   "name": "python",
   "nbconvert_exporter": "python",
   "pygments_lexer": "ipython3",
   "version": "3.10.0"
  }
 },
 "nbformat": 4,
 "nbformat_minor": 5
}
