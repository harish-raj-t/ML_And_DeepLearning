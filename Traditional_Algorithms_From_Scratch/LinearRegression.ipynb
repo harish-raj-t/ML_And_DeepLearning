{
 "cells": [
  {
   "cell_type": "code",
   "execution_count": 1,
   "id": "aedfa297-42a7-483f-851f-936e72e8d2c4",
   "metadata": {},
   "outputs": [],
   "source": [
    "import numpy as np"
   ]
  },
  {
   "cell_type": "code",
   "execution_count": 2,
   "id": "34f92b36-50bd-4d7f-a5a4-5cf4080bfb60",
   "metadata": {},
   "outputs": [],
   "source": [
    "class LinearRegression:\n",
    "    def __init__(self,learning_rate=0.1, epochs = 1000):\n",
    "        self.learning_rate = learning_rate\n",
    "        self.epochs = epochs\n",
    "        self.weights = None\n",
    "        self.bias = None\n",
    "\n",
    "    def fit(self,X,y):\n",
    "        #X dimensions are m*n \n",
    "        #m -> number of instances, n-> features\n",
    "        n_instances, n_features = X.shape\n",
    "        self.weights =  np.zeros(n_features)\n",
    "        self.bias = 0\n",
    "        \n",
    "\n",
    "        for _ in range(self.epochs):\n",
    "            output = np.dot(X,self.weights) + self.bias\n",
    "            error = output-y\n",
    "            dw = np.dot(X.T,error)/ n_instances\n",
    "            db = np.sum(error) / n_instances \n",
    "            self.weights -= self.learning_rate * dw\n",
    "            self.bias -= self.learning_rate * db\n",
    "            output = X @ self.weights + self.bias\n",
    "            error = output-y\n",
    "            \n",
    "        \n",
    "    def predict(self,X):\n",
    "        return np.dot(X,self.weights) + self.bias"
   ]
  },
  {
   "cell_type": "code",
   "execution_count": 12,
   "id": "51aee25e-e94f-4e52-8575-0f0598368ec8",
   "metadata": {},
   "outputs": [],
   "source": [
    "class LinearRegressionMiniSGD:\n",
    "    def __init__(self,learning_rate=0.1, epochs = 1000, batches = 64):\n",
    "        self.learning_rate = learning_rate\n",
    "        self.epochs = epochs\n",
    "        self.batches = batches\n",
    "        self.weights = None\n",
    "        self.bias = None\n",
    "\n",
    "    def fit(self,X,y):\n",
    "        #X dimensions are m*n \n",
    "        #m -> number of instances, n-> features\n",
    "        n_instances, n_features = X.shape\n",
    "        self.weights =  np.zeros(n_features)\n",
    "        self.bias = 0\n",
    "        \n",
    "\n",
    "        for _ in range(self.epochs):\n",
    "            indices = np.random.permutation(n_instances)\n",
    "            X_shuffled = X[indices]\n",
    "            y_shuffled = y[indices]\n",
    "            for i in range(0,n_instances,self.batches):\n",
    "                X_batch = X_shuffled[i:i+self.batches]\n",
    "                y_batch = y_shuffled[i:i+self.batches]\n",
    "                output = np.dot(X_batch,self.weights) + self.bias\n",
    "                error = output-y_batch\n",
    "                dw = np.dot(X_batch.T,error)/ n_instances\n",
    "                db = np.sum(error) / n_instances \n",
    "                self.weights -= self.learning_rate * dw\n",
    "                self.bias -= self.learning_rate * db\n",
    "            \n",
    "        \n",
    "    def predict(self,X):\n",
    "        return np.dot(X,self.weights) + self.bias"
   ]
  },
  {
   "cell_type": "code",
   "execution_count": 13,
   "id": "8596c348-12d6-4322-bb6b-a0d538655ed2",
   "metadata": {},
   "outputs": [],
   "source": [
    "import numpy as np\n",
    "import matplotlib.pyplot as plt\n",
    "from mpl_toolkits.mplot3d import Axes3D\n",
    "\n",
    "n_samples = 3        # Number of data points\n",
    "n_features = 2         # Two features\n",
    "true_coefficients = np.array([2.5, -1.7])  # Coefficients for each feature\n",
    "intercept = 4.0        # Intercept\n",
    "noise_level = 1.0      # Standard deviation of the noise\n",
    "\n",
    "X = np.random.rand(n_samples, n_features) * 10\n",
    "\n",
    "y = X @ true_coefficients + intercept + np.random.normal(0, noise_level, size=n_samples)"
   ]
  },
  {
   "cell_type": "code",
   "execution_count": 15,
   "id": "3e865ab1-ed92-4c30-8143-09cdfdf25ad7",
   "metadata": {},
   "outputs": [],
   "source": [
    "from sklearn.preprocessing import StandardScaler\n",
    "scaler = StandardScaler()\n",
    "X = scaler.fit_transform(X)"
   ]
  },
  {
   "cell_type": "code",
   "execution_count": 16,
   "id": "fa60894d-7a4b-42d5-a406-460fd21e76d6",
   "metadata": {
    "scrolled": true
   },
   "outputs": [],
   "source": [
    "lr = LinearRegressionMiniSGD(learning_rate = 0.1)\n",
    "lr.fit(X,y)"
   ]
  },
  {
   "cell_type": "code",
   "execution_count": 17,
   "id": "9db803e1-a736-4daa-ac03-083b0d555012",
   "metadata": {},
   "outputs": [],
   "source": [
    "pred = lr.predict(X)"
   ]
  },
  {
   "cell_type": "code",
   "execution_count": 18,
   "id": "f3ef371b-f97a-4fcb-adee-dc808af5b2ac",
   "metadata": {},
   "outputs": [
    {
     "data": {
      "text/plain": [
       "1.685075892905448e-10"
      ]
     },
     "execution_count": 18,
     "metadata": {},
     "output_type": "execute_result"
    }
   ],
   "source": [
    "loss = np.sqrt(np.mean(np.square(pred-y)))\n",
    "loss"
   ]
  },
  {
   "cell_type": "code",
   "execution_count": 20,
   "id": "f9004241-d8aa-4eaa-98c5-183fdc2d2fe5",
   "metadata": {},
   "outputs": [
    {
     "data": {
      "text/plain": [
       "array([21.56788411])"
      ]
     },
     "execution_count": 20,
     "metadata": {},
     "output_type": "execute_result"
    }
   ],
   "source": [
    "x_test = scaler.transform([[8.84975613, 2.81881006]])\n",
    "lr.predict(x_test)"
   ]
  },
  {
   "cell_type": "code",
   "execution_count": null,
   "id": "c0260927-4f69-4f33-bad4-6a3b3b44cc4e",
   "metadata": {},
   "outputs": [],
   "source": []
  }
 ],
 "metadata": {
  "kernelspec": {
   "display_name": "Python 3 (ipykernel)",
   "language": "python",
   "name": "python3"
  },
  "language_info": {
   "codemirror_mode": {
    "name": "ipython",
    "version": 3
   },
   "file_extension": ".py",
   "mimetype": "text/x-python",
   "name": "python",
   "nbconvert_exporter": "python",
   "pygments_lexer": "ipython3",
   "version": "3.10.0"
  }
 },
 "nbformat": 4,
 "nbformat_minor": 5
}
